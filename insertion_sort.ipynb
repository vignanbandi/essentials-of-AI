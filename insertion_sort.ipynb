{
  "nbformat": 4,
  "nbformat_minor": 0,
  "metadata": {
    "colab": {
      "name": "insertion_sort.ipynb",
      "provenance": [],
      "collapsed_sections": [],
      "authorship_tag": "ABX9TyPgrXiXVO2jS6LFhjsAQApa"
    },
    "kernelspec": {
      "name": "python3",
      "display_name": "Python 3"
    }
  },
  "cells": [
    {
      "cell_type": "markdown",
      "metadata": {
        "id": "L4HG4vfQj6q4"
      },
      "source": [
        "# Insertion Sorting Algorithm\n",
        "\n",
        "What is insertion sorting algorithm:\n",
        "\n",
        "Steps:\n",
        "\n",
        "* Pick the second element from list compare with its predecessor  \n",
        "* If element is less then its predecessors keep goinf backwards untill you find a value where its less on index is zero\n",
        "* Repeat this steps.\n",
        "\n",
        "\n",
        "1.  Time Complexity: O(n*2)\n",
        "2.  Space Complexity\n",
        "\n"
      ]
    },
    {
      "cell_type": "code",
      "metadata": {
        "colab": {
          "base_uri": "https://localhost:8080/"
        },
        "id": "fw_mBMvYmIZ8",
        "outputId": "56b90b06-f86e-4e51-b8fd-58ab943a87b8"
      },
      "source": [
        "def insertion_sort(array):\n",
        "\n",
        "    len_array = len(array)\n",
        "    if len_array <= 1:\n",
        "        return array\n",
        "\n",
        "    # Iterate from second element of the list\n",
        "    for i in range(1, len(array)):\n",
        "\n",
        "        current_value = array[i]\n",
        "        j = i-1\n",
        "\n",
        "        # Go backwards and till u find a element smaller than the current value\n",
        "        while j >= 0 and array[j] > current_value:\n",
        "            array[j+1] = array[j]\n",
        "            j -= 1\n",
        "        array[j+1] = current_value\n",
        "    \n",
        "    return array\n",
        "\n",
        "\n",
        "print(insertion_sort([12, 11, 13, 5, 6]))"
      ],
      "execution_count": 4,
      "outputs": [
        {
          "output_type": "stream",
          "text": [
            "[5, 6, 11, 12, 13]\n"
          ],
          "name": "stdout"
        }
      ]
    }
  ]
}